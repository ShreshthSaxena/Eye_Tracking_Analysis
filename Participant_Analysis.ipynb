{
 "cells": [
  {
   "cell_type": "code",
   "execution_count": 1,
   "id": "2d71ca4e-4cad-445b-9938-d49b02cc418f",
   "metadata": {},
   "outputs": [],
   "source": [
    "import pandas as pd\n",
    "from tqdm.notebook import tqdm\n",
    "import matplotlib.pyplot as plt\n",
    "import seaborn as sns\n",
    "import os,glob\n",
    "import numpy as np\n",
    "import ffmpeg\n",
    "from analysis_module import *\n",
    "\n",
    "def get_fps(path):\n",
    "    vid_len = ffmpeg.probe(path)[\"format\"][\"duration\"]\n",
    "    c = get_frame_count(path)\n",
    "    return c/float(vid_len)\n",
    "    \n",
    "def mean_fps(path):\n",
    "    fps_arr = []\n",
    "    for fname in glob.glob(f\"{path}/??????/*\"):\n",
    "        fps_arr.append(get_fps(fname))\n",
    "    return fps_arr"
   ]
  },
  {
   "cell_type": "markdown",
   "id": "87badee7-9fda-4f77-80f1-1380eedbffa4",
   "metadata": {},
   "source": [
    "### Screen data"
   ]
  },
  {
   "cell_type": "code",
   "execution_count": 2,
   "id": "f8479757-f33a-43c6-a97f-a34bc05c4203",
   "metadata": {
    "tags": []
   },
   "outputs": [
    {
     "name": "stdout",
     "output_type": "stream",
     "text": [
      "65\n"
     ]
    }
   ],
   "source": [
    "#Pre-Screening\n",
    "paths = glob.glob(\"Subjects/s*\")\n",
    "print(len(paths))\n",
    "\n",
    "#all subjects in trash/Subjects were excluded after fps check except 4\n",
    "#88 (no data) ad 48 (upload failed:16 but 68 uploads) removed from the remaining four \n",
    "#checking 16 and 37 further -> wearing glasses"
   ]
  },
  {
   "cell_type": "code",
   "execution_count": 3,
   "id": "20d8c20e-f098-4836-8723-9ef16f9600e9",
   "metadata": {},
   "outputs": [
    {
     "name": "stdout",
     "output_type": "stream",
     "text": [
      "Subjects/s86  1 68\n",
      "Subjects/s114 1 68\n",
      "Subjects/s64  15 68\n",
      "Subjects/s43  1 67\n",
      "Subjects/s17  1 68\n",
      "Subjects/s32  2 68\n"
     ]
    }
   ],
   "source": [
    "# paths = [path for path in paths if int(path.strip(\"Subjects/s\"))>105]\n",
    "for path in paths:\n",
    "    df = pd.read_csv(os.path.join(path,\"data.csv\"))\n",
    "    if df.upload_failed.dropna().sum() > 0:\n",
    "        print(\"{:13}\".format(path), df.upload_failed.dropna().sum(), len(os.listdir(os.path.join(path,str(df.iloc[0].rec_session_id)))))#, df[df.upload_failed==True][[\"Task_Name\",\"Trial_Nr\"]])\n",
    "        \n",
    "# What's up with s64? (LabVanced data has upload_failed==True but recordings are present)"
   ]
  },
  {
   "cell_type": "code",
   "execution_count": 311,
   "id": "cf8aa99b-8142-4e8e-b037-df1f5b25cb33",
   "metadata": {
    "tags": []
   },
   "outputs": [],
   "source": [
    "## FPS Exclusion criteria\n",
    "\n",
    "tasks = ['E_calib','SP_calib', '3. FreeView', '2. Smooth Pursuit', '4. Zone Classification','1. Fixation','5. Blink Detect']\n",
    "screen_out = []\n",
    "\n",
    "for path in paths: # path = \"Subjects/s*\"\n",
    "    df = pd.read_csv(f\"{path}/data.csv\")\n",
    "    sub_fps = {k:[] for k in tasks}\n",
    "    ex_tasks = []\n",
    "    for task in tasks:\n",
    "        sub_df = df[df[\"Task_Name\"] == task]\n",
    "        if task == \"3. FreeView\":\n",
    "            sub_df = sub_df[sub_df[\"Trial_Nr\"]!=1] #drop example trial for freeview \n",
    "            \n",
    "        for i,row in sub_df.iterrows():\n",
    "            try:\n",
    "                fname = glob.glob(f\"{path}/??????/blockNr_{row.Block_Nr}_taskNr_{row.Task_Nr}_trialNr_{row.Trial_Nr}*.webm\")[0]\n",
    "                fps = get_fps(fname)\n",
    "                sub_fps[task].append(int(fps))\n",
    "            except Exception as e:\n",
    "                print(task, row.Trial_Nr, e)\n",
    "                sub_fps[task].append(0)\n",
    "            \n",
    "        valid = sum([i>=25 for i in sub_fps[task]])\n",
    "        if valid<0.7*sub_df.shape[0]:\n",
    "            if 'calib' in task:\n",
    "                screen_out.append(path)\n",
    "                print(path, task, sub_fps[task])\n",
    "                print(\"*\"*50)\n",
    "                break\n",
    "            else:\n",
    "                print(path, task, sub_fps[task])\n",
    "                ex_tasks.append(task)\n",
    "    else:\n",
    "        if len(ex_tasks) > 1:\n",
    "            print(path, ex_tasks)\n",
    "            screen_out.append(path)\n",
    "            print(\"*\"*50)"
   ]
  },
  {
   "cell_type": "code",
   "execution_count": 325,
   "id": "abc4ae45-71cc-4d61-8924-bfbd680f4cdc",
   "metadata": {},
   "outputs": [
    {
     "data": {
      "text/plain": [
       "(array([ 1.,  0.,  0.,  2.,  4., 39., 14.,  4.,  2.,  2.]),\n",
       " array([29.59028832, 29.63511058, 29.67993283, 29.72475509, 29.76957735,\n",
       "        29.81439961, 29.85922187, 29.90404413, 29.94886639, 29.99368865,\n",
       "        30.03851091]),\n",
       " <BarContainer object of 10 artists>)"
      ]
     },
     "execution_count": 325,
     "metadata": {},
     "output_type": "execute_result"
    },
    {
     "data": {
      "image/png": "[encoded data removed]",
      "text/plain": [
       "<Figure size 432x288 with 1 Axes>"
      ]
     },
     "metadata": {
      "needs_background": "light"
     },
     "output_type": "display_data"
    }
   ],
   "source": [
    "#check fps consistency over a single session (change Subject number accordingly)\n",
    "l=[]\n",
    "for path in [\"Subjects/s79\"]:\n",
    "    for fname in glob.glob(path+\"/??????/*\"):\n",
    "        fps = get_fps(fname)\n",
    "        l.append(fps)\n",
    "plt.hist(l)"
   ]
  },
  {
   "cell_type": "code",
   "execution_count": 326,
   "id": "ac319804-55b8-4dda-9c54-f92bb3963ed4",
   "metadata": {
    "tags": []
   },
   "outputs": [],
   "source": [
    "## FACE DETECTION exclusion criteria\n",
    "# first perform calib tests using face_detect_calib.py for each model respectively\n",
    "\n",
    "model = pred_path.ETH\n",
    "\n",
    "for subb in os.listdir(model.value):\n",
    "    tasks = {k:0 for k in [\"Fixation\", \"Smooth Pursuit\", \"Zone Classification\", \"FreeView\"]}\n",
    "    lpaths = glob.glob(f\"{model.value}/{subb}/model_outputs/*/*.csv\")\n",
    "    for trial in lpaths:\n",
    "        df = pd.read_csv(trial)\n",
    "        if df.res.isna().sum() > 0.3*df.shape[0]:\n",
    "            key = ''.join([i for i in trial.split('/')[-1][:-4] if not i.isdigit()])\n",
    "            tasks[key] += 1\n",
    "    verify = [tasks[\"FreeView\"]>(0.3*16), tasks[\"Fixation\"]>(0.3*10), tasks[\"Smooth Pursuit\"]>(0.3*10), tasks[\"Zone Classification\"]>(0.3*10)]\n",
    "    if sum(verify) > 1:\n",
    "        print(subb, tasks)"
   ]
  },
  {
   "cell_type": "code",
   "execution_count": 16,
   "id": "6b665622-9ab0-4bcd-be3b-f2459b57d805",
   "metadata": {},
   "outputs": [],
   "source": [
    "# filter_paths = [ p for p in paths if p not in screen_out ]\n",
    "# len(filter_paths)#.remove(\"Subjects/s46\")"
   ]
  },
  {
   "cell_type": "markdown",
   "id": "007c65fc-889c-4769-bad7-2aadf133bb73",
   "metadata": {},
   "source": [
    "### EDA"
   ]
  },
  {
   "cell_type": "code",
   "execution_count": null,
   "id": "811ad4fd-c829-4da7-8fe7-cfcbeaffdbc7",
   "metadata": {},
   "outputs": [
    {
     "name": "stderr",
     "output_type": "stream",
     "text": [
      "  0%|                                                    | 0/65 [00:00<?, ?it/s]"
     ]
    }
   ],
   "source": [
    "#EDA\n",
    "\n",
    "cdf = pd.DataFrame(columns=['id','task_seq', 'seconds', 't_offset', 't_std', 'loc', 'lang', 'age', 'group', ' fullscreen', ' l1', 'l2', 'l3', 'student', 'gender', 'study', 'vision',\"zone\",\"blink\",\"sp\", \"fix\", \"browser\", \"OS\", \"fps\"])\n",
    "fps_subjects = {}\n",
    "\n",
    "for path in tqdm(glob.glob(\"Subjects/*\")):\n",
    "    df = pd.read_csv(f\"{path}/data.csv\")\n",
    "    task_seq = eval(df.Block_Name.max().strip(\"tasks ()\"))\n",
    "    row = df[df[\"Task_Name\"] == \"instructions\"].iloc[0]\n",
    "    duration,_ = get_time(row)\n",
    "    seconds = duration.total_seconds()\n",
    "    gender = \"male\" if row.GenderChoice == 'option_1' else 'female'\n",
    "    psych = \"yes\" if row.FieldOfStudy == 'option_0' else 'no'\n",
    "    student = \"yes\" if row.IsAStudent == 'option_0' else 'no'\n",
    "    vision = \"normal\" if row.VisionChoice == 'option_0' else 'corrected'\n",
    "    \n",
    "    \n",
    "#     fname = glob.glob(path+\"/*/*BlinkRec.webm\")[1]\n",
    "#     vid_len = ffmpeg.probe(fname)[\"format\"][\"duration\"]\n",
    "#     c = get_frame_count(fname)\n",
    "#     fps = c/float(vid_len)\n",
    "#     summ = mean_fps(path)\n",
    "#     fps_min = summ.min()\n",
    "#     fps_max = summ.max()\n",
    "#     fps_mean = summ.mean()\n",
    "    fps_subjects[path.split(\"/\")[1]] = mean_fps(path)\n",
    "    \n",
    "    l=[]\n",
    "    for task in [\"4. Zone Classification\",\"5. Blink Detect\",\"2. Smooth Pursuit\", \"1. Fixation\"]:\n",
    "            sub = df[df[\"Task_Name\"] == task]\n",
    "            l.append((sub.RecStop -sub.RecStart).sum())\n",
    "    \n",
    "    cdf.loc[len(cdf)] = [path.split(\"/\")[1],task_seq, seconds, row.time_delay_offset, row.time_measure_std, row.selected_location, row.selected_language, row.selected_age, row.group_name, row.always_fullscreen, row.Level1, row.Level2, row.Level3, student, gender, psych, vision, l[0], l[1], l[2], l[3], row[\"browser_spec\"], row[\"system_spec\"], np.array(fps_subjects[path.split(\"/\")[1]]).mean()]"
   ]
  },
  {
   "cell_type": "code",
   "execution_count": null,
   "id": "f604b8a8-402b-4228-93d8-64abf5c04f13",
   "metadata": {
    "tags": []
   },
   "outputs": [],
   "source": [
    "fig,axs = plt.subplots(int(len(fps_subjects)/5)+1,5)\n",
    "i = 0\n",
    "fig.set_figheight(60)\n",
    "fig.set_figwidth(30)\n",
    "for key,value in fps_subjects.items():\n",
    "    ax = axs[int(i/5)][i%5]\n",
    "    arr = np.array(value).astype(int)\n",
    "    ax.hist(arr, bins = np.arange(0,33)-0.5)\n",
    "    ax.axvline(arr.mean(),linestyle=\"--\", color=\"orange\")\n",
    "    ax.set_title(key)\n",
    "    ax.set_xticks(range(0,33,2))\n",
    "    ax.set\n",
    "    i+=1\n",
    "# plt.savefig('subjects_fps.jpg')"
   ]
  },
  {
   "cell_type": "code",
   "execution_count": null,
   "id": "38b82fab-0e25-4ecb-96e3-47ec623ba02c",
   "metadata": {},
   "outputs": [
    {
     "data": {
      "image/png": "[encoded data removed]",
      "text/plain": [
       "<Figure size 1296x864 with 1 Axes>"
      ]
     },
     "metadata": {
      "needs_background": "light"
     },
     "output_type": "display_data"
    }
   ],
   "source": [
    "plt.figure(figsize = (18,12))\n",
    "plt.grid(visible= True, axis=\"y\", linestyle=\"--\", zorder=0)\n",
    "plt.hist([np.array(x).astype(int).mean() for x in fps_subjects.values()] , np.arange(0,33)-0.5, zorder=3)\n",
    "plt.xticks(range(0,33,2))\n",
    "plt.yticks(range(0,24,2))\n",
    "plt.xlabel(\"Frames per second\", fontsize=13)\n",
    "plt.savefig(\"fps_means.jpg\")"
   ]
  },
  {
   "cell_type": "code",
   "execution_count": 521,
   "id": "7a322de6-6462-4939-be76-11edb3474aa9",
   "metadata": {},
   "outputs": [
    {
     "data": {
      "text/html": [
       "<div>\n",
       "<style scoped>\n",
       "    .dataframe tbody tr th:only-of-type {\n",
       "        vertical-align: middle;\n",
       "    }\n",
       "\n",
       "    .dataframe tbody tr th {\n",
       "        vertical-align: top;\n",
       "    }\n",
       "\n",
       "    .dataframe thead th {\n",
       "        text-align: right;\n",
       "    }\n",
       "</style>\n",
       "<table border=\"1\" class=\"dataframe\">\n",
       "  <thead>\n",
       "    <tr style=\"text-align: right;\">\n",
       "      <th></th>\n",
       "      <th>seconds</th>\n",
       "      <th>t_offset</th>\n",
       "      <th>t_std</th>\n",
       "      <th>zone</th>\n",
       "      <th>blink</th>\n",
       "      <th>sp</th>\n",
       "      <th>fix</th>\n",
       "      <th>fps</th>\n",
       "    </tr>\n",
       "  </thead>\n",
       "  <tbody>\n",
       "    <tr>\n",
       "      <th>seconds</th>\n",
       "      <td>1.000000</td>\n",
       "      <td>0.339033</td>\n",
       "      <td>0.275281</td>\n",
       "      <td>0.016831</td>\n",
       "      <td>0.053001</td>\n",
       "      <td>0.368403</td>\n",
       "      <td>0.364978</td>\n",
       "      <td>-0.205481</td>\n",
       "    </tr>\n",
       "    <tr>\n",
       "      <th>t_offset</th>\n",
       "      <td>0.339033</td>\n",
       "      <td>1.000000</td>\n",
       "      <td>0.894527</td>\n",
       "      <td>0.196130</td>\n",
       "      <td>0.221792</td>\n",
       "      <td>0.268876</td>\n",
       "      <td>0.013811</td>\n",
       "      <td>-0.010472</td>\n",
       "    </tr>\n",
       "    <tr>\n",
       "      <th>t_std</th>\n",
       "      <td>0.275281</td>\n",
       "      <td>0.894527</td>\n",
       "      <td>1.000000</td>\n",
       "      <td>0.194549</td>\n",
       "      <td>0.193301</td>\n",
       "      <td>0.252578</td>\n",
       "      <td>-0.046590</td>\n",
       "      <td>-0.005361</td>\n",
       "    </tr>\n",
       "    <tr>\n",
       "      <th>zone</th>\n",
       "      <td>0.016831</td>\n",
       "      <td>0.196130</td>\n",
       "      <td>0.194549</td>\n",
       "      <td>1.000000</td>\n",
       "      <td>-0.064775</td>\n",
       "      <td>0.062335</td>\n",
       "      <td>0.025363</td>\n",
       "      <td>-0.222633</td>\n",
       "    </tr>\n",
       "    <tr>\n",
       "      <th>blink</th>\n",
       "      <td>0.053001</td>\n",
       "      <td>0.221792</td>\n",
       "      <td>0.193301</td>\n",
       "      <td>-0.064775</td>\n",
       "      <td>1.000000</td>\n",
       "      <td>-0.054618</td>\n",
       "      <td>-0.053103</td>\n",
       "      <td>0.298027</td>\n",
       "    </tr>\n",
       "    <tr>\n",
       "      <th>sp</th>\n",
       "      <td>0.368403</td>\n",
       "      <td>0.268876</td>\n",
       "      <td>0.252578</td>\n",
       "      <td>0.062335</td>\n",
       "      <td>-0.054618</td>\n",
       "      <td>1.000000</td>\n",
       "      <td>0.029410</td>\n",
       "      <td>-0.001605</td>\n",
       "    </tr>\n",
       "    <tr>\n",
       "      <th>fix</th>\n",
       "      <td>0.364978</td>\n",
       "      <td>0.013811</td>\n",
       "      <td>-0.046590</td>\n",
       "      <td>0.025363</td>\n",
       "      <td>-0.053103</td>\n",
       "      <td>0.029410</td>\n",
       "      <td>1.000000</td>\n",
       "      <td>-0.126572</td>\n",
       "    </tr>\n",
       "    <tr>\n",
       "      <th>fps</th>\n",
       "      <td>-0.205481</td>\n",
       "      <td>-0.010472</td>\n",
       "      <td>-0.005361</td>\n",
       "      <td>-0.222633</td>\n",
       "      <td>0.298027</td>\n",
       "      <td>-0.001605</td>\n",
       "      <td>-0.126572</td>\n",
       "      <td>1.000000</td>\n",
       "    </tr>\n",
       "  </tbody>\n",
       "</table>\n",
       "</div>"
      ],
      "text/plain": [
       "           seconds  t_offset     t_std      zone     blink        sp  \\\n",
       "seconds   1.000000  0.339033  0.275281  0.016831  0.053001  0.368403   \n",
       "t_offset  0.339033  1.000000  0.894527  0.196130  0.221792  0.268876   \n",
       "t_std     0.275281  0.894527  1.000000  0.194549  0.193301  0.252578   \n",
       "zone      0.016831  0.196130  0.194549  1.000000 -0.064775  0.062335   \n",
       "blink     0.053001  0.221792  0.193301 -0.064775  1.000000 -0.054618   \n",
       "sp        0.368403  0.268876  0.252578  0.062335 -0.054618  1.000000   \n",
       "fix       0.364978  0.013811 -0.046590  0.025363 -0.053103  0.029410   \n",
       "fps      -0.205481 -0.010472 -0.005361 -0.222633  0.298027 -0.001605   \n",
       "\n",
       "               fix       fps  \n",
       "seconds   0.364978 -0.205481  \n",
       "t_offset  0.013811 -0.010472  \n",
       "t_std    -0.046590 -0.005361  \n",
       "zone      0.025363 -0.222633  \n",
       "blink    -0.053103  0.298027  \n",
       "sp        0.029410 -0.001605  \n",
       "fix       1.000000 -0.126572  \n",
       "fps      -0.126572  1.000000  "
      ]
     },
     "execution_count": 521,
     "metadata": {},
     "output_type": "execute_result"
    }
   ],
   "source": [
    "cdf.corr()"
   ]
  },
  {
   "cell_type": "code",
   "execution_count": 56,
   "id": "aab1150f-b1a3-4b8d-b24c-0c99d9104b6c",
   "metadata": {},
   "outputs": [
    {
     "data": {
      "image/png": "[encoded data removed]",
      "text/plain": [
       "<Figure size 1152x576 with 1 Axes>"
      ]
     },
     "metadata": {
      "needs_background": "light"
     },
     "output_type": "display_data"
    }
   ],
   "source": [
    "plt.figure(figsize = (16,8))\n",
    "plt.xlabel('frames per second')\n",
    "plt.ylabel('freq')\n",
    "plt.hist([int(i) for i in cdf.fps_mean], 30)\n",
    "plt.xticks(range(14,33))\n",
    "plt.yticks(range(0,25,2))\n",
    "plt.show()"
   ]
  },
  {
   "cell_type": "code",
   "execution_count": 346,
   "id": "df6c43df-7f50-4c1d-be0e-da22351b46e8",
   "metadata": {},
   "outputs": [
    {
     "data": {
      "text/plain": [
       "<AxesSubplot:>"
      ]
     },
     "execution_count": 346,
     "metadata": {},
     "output_type": "execute_result"
    },
    {
     "data": {
      "image/png": "[encoded data removed]",
      "text/plain": [
       "<Figure size 864x360 with 1 Axes>"
      ]
     },
     "metadata": {
      "needs_background": "light"
     },
     "output_type": "display_data"
    }
   ],
   "source": [
    "cdf[\"task_seq\"].value_counts().plot.barh(figsize=(12,5))"
   ]
  },
  {
   "cell_type": "code",
   "execution_count": null,
   "id": "0de026e3-b2a6-48df-a229-bc7cba3549cc",
   "metadata": {},
   "outputs": [
    {
     "data": {
      "text/plain": [
       "<AxesSubplot:>"
      ]
     },
     "execution_count": 590,
     "metadata": {},
     "output_type": "execute_result"
    },
    {
     "data": {
      "image/png": "[encoded data removed]",
      "text/plain": [
       "<Figure size 432x288 with 1 Axes>"
      ]
     },
     "metadata": {
      "needs_background": "light"
     },
     "output_type": "display_data"
    }
   ],
   "source": [
    "## not all subjects since LabVanced dropped the variable impromptly \n",
    "pd.Series([float(i.strip(\" ms\")) for i in cdf.t_offset if i != \"not measured\"]).hist(bins = 30)"
   ]
  },
  {
   "cell_type": "code",
   "execution_count": 379,
   "id": "b6f5e2e7-1491-4551-a453-d8c244325b7e",
   "metadata": {},
   "outputs": [
    {
     "data": {
      "text/plain": [
       "<AxesSubplot:>"
      ]
     },
     "execution_count": 379,
     "metadata": {},
     "output_type": "execute_result"
    },
    {
     "data": {
      "image/png": "[encoded data removed]",
      "text/plain": [
       "<Figure size 432x288 with 1 Axes>"
      ]
     },
     "metadata": {
      "needs_background": "light"
     },
     "output_type": "display_data"
    }
   ],
   "source": [
    "## not all subjects since LabVanced dropped the variable impromptly \n",
    "cdf.t_std.dropna().apply(lambda x: float(x.strip(\" ms\"))).hist(bins = 30)"
   ]
  },
  {
   "cell_type": "code",
   "execution_count": 380,
   "id": "93fda20c-405e-4ac1-96a4-5b6851660ed0",
   "metadata": {},
   "outputs": [
    {
     "data": {
      "text/plain": [
       "DE    62\n",
       "AT     1\n",
       "NL     1\n",
       "FR     1\n",
       "Name: loc, dtype: int64"
      ]
     },
     "execution_count": 380,
     "metadata": {},
     "output_type": "execute_result"
    }
   ],
   "source": [
    "cdf['loc'].value_counts()"
   ]
  },
  {
   "cell_type": "code",
   "execution_count": 381,
   "id": "2962e66a-3bd9-45c6-a9c5-c1eae6debc7f",
   "metadata": {},
   "outputs": [
    {
     "data": {
      "text/plain": [
       "de    51\n",
       "en     5\n",
       "zh     3\n",
       "pt     2\n",
       "ko     2\n",
       "ru     1\n",
       "ro     1\n",
       "Name: lang, dtype: int64"
      ]
     },
     "execution_count": 381,
     "metadata": {},
     "output_type": "execute_result"
    }
   ],
   "source": [
    "cdf['lang'].value_counts()"
   ]
  },
  {
   "cell_type": "code",
   "execution_count": 382,
   "id": "a70f1e30-8bb6-45ec-9a6d-3230733464cd",
   "metadata": {},
   "outputs": [
    {
     "data": {
      "text/plain": [
       "Chrome     25\n",
       "Safari     10\n",
       "Firefox     6\n",
       "Opera       1\n",
       "Name: browser, dtype: int64"
      ]
     },
     "execution_count": 382,
     "metadata": {},
     "output_type": "execute_result"
    }
   ],
   "source": [
    "cdf['browser'].value_counts()"
   ]
  },
  {
   "cell_type": "code",
   "execution_count": 383,
   "id": "771dce99-7de1-43f0-bcdf-fe5a611ab4c4",
   "metadata": {},
   "outputs": [
    {
     "data": {
      "text/plain": [
       "Windows-PC    23\n",
       "Mac/OS-X      19\n",
       "Name: OS, dtype: int64"
      ]
     },
     "execution_count": 383,
     "metadata": {},
     "output_type": "execute_result"
    },
    {
     "data": {
      "image/png": "[encoded data removed]",
      "text/plain": [
       "<Figure size 432x288 with 1 Axes>"
      ]
     },
     "metadata": {
      "needs_background": "light"
     },
     "output_type": "display_data"
    }
   ],
   "source": [
    "cdf[\"OS\"].value_counts().plot.bar(rot=0); cdf[\"OS\"].value_counts()"
   ]
  },
  {
   "cell_type": "code",
   "execution_count": 384,
   "id": "388845d0-16b1-4605-9fc1-6fc09ed6e712",
   "metadata": {},
   "outputs": [
    {
     "name": "stdout",
     "output_type": "stream",
     "text": [
      "count    65.000000\n",
      "mean     26.046154\n",
      "std       3.550664\n",
      "min      20.000000\n",
      "25%      24.000000\n",
      "50%      25.000000\n",
      "75%      28.000000\n",
      "max      35.000000\n",
      "Name: age, dtype: float64\n"
     ]
    },
    {
     "data": {
      "text/plain": [
       "<AxesSubplot:>"
      ]
     },
     "execution_count": 384,
     "metadata": {},
     "output_type": "execute_result"
    },
    {
     "data": {
      "image/png": "[encoded data removed]",
      "text/plain": [
       "<Figure size 432x288 with 1 Axes>"
      ]
     },
     "metadata": {
      "needs_background": "light"
     },
     "output_type": "display_data"
    }
   ],
   "source": [
    "print(cdf.age.astype(float).describe())\n",
    "cdf.age.hist()"
   ]
  },
  {
   "cell_type": "code",
   "execution_count": 385,
   "id": "fad6272c-f8ea-4694-80f7-d1722d2bc540",
   "metadata": {
    "tags": []
   },
   "outputs": [],
   "source": [
    "#temp : these sujects can be used for presentations snip\n",
    "temp = cdf[cdf[[\"l2\",\"l3\"]].sum(axis=1) == 2]\n",
    "temp = temp[[\"l2\",\"l3\",\"id\"]]"
   ]
  },
  {
   "cell_type": "code",
   "execution_count": 389,
   "id": "ac1dcfaf-b8fb-44a1-8023-6c1913acc41d",
   "metadata": {
    "collapsed": true,
    "jupyter": {
     "outputs_hidden": true
    },
    "tags": []
   },
   "outputs": [
    {
     "name": "stdout",
     "output_type": "stream",
     "text": [
      "s61\n",
      "saved temp/Subjects/s61/323348/blockNr_13_taskNr_9_trialNr_2_recordZone.jpg True\n",
      "s3\n",
      "saved temp/Subjects/s3/322260/blockNr_4_taskNr_3_trialNr_1_video_calib.jpg True\n",
      "s53\n",
      "saved temp/Subjects/s53/339942/blockNr_6_taskNr_15_trialNr_7_freeViewRec.jpg True\n",
      "s66\n",
      "saved temp/Subjects/s66/325452/blockNr_4_taskNr_3_trialNr_1_calib_sp_record.jpg True\n",
      "s46\n",
      "saved temp/Subjects/s46/327539/blockNr_13_taskNr_6_trialNr_1_recordZone.jpg True\n",
      "s114\n",
      "saved temp/Subjects/s114/426879/blockNr_13_taskNr_15_trialNr_1_pursuit_rec.jpg True\n",
      "s34\n",
      "saved temp/Subjects/s34/321411/blockNr_6_taskNr_11_trialNr_1_pursuit_rec.jpg True\n",
      "s78\n",
      "saved temp/Subjects/s78/398815/blockNr_4_taskNr_2_trialNr_1_video_calib.jpg True\n",
      "s79\n",
      "saved temp/Subjects/s79/398973/blockNr_6_taskNr_9_trialNr_3_recordZone.jpg True\n",
      "s90\n",
      "saved temp/Subjects/s90/412774/blockNr_13_taskNr_9_trialNr_7_freeViewRec.jpg True\n",
      "s60\n",
      "saved temp/Subjects/s60/339116/blockNr_13_taskNr_12_trialNr_2_BlinkRec.jpg True\n",
      "s4\n",
      "saved temp/Subjects/s4/330147/blockNr_6_taskNr_12_trialNr_3_freeViewRec.jpg True\n",
      "s102\n",
      "saved temp/Subjects/s102/424116/blockNr_6_taskNr_6_trialNr_5_FixRec.jpg True\n",
      "s32\n",
      "saved temp/Subjects/s32/322267/blockNr_13_taskNr_15_trialNr_1_BlinkRec.jpg True\n"
     ]
    }
   ],
   "source": [
    "#save images for collage\n",
    "os.mkdir(\"temp\")\n",
    "for s in temp.id:\n",
    "    print(s)\n",
    "    file = np.random.choice(glob.glob(f\"Subjects/{s}/*/*.webm\"))\n",
    "    cap = cv2.VideoCapture(file)\n",
    "    randin = int(np.random.randn()*50)\n",
    "    i=0\n",
    "    while True:\n",
    "        i+=1\n",
    "        ret,f = cap.read()\n",
    "        if not ret:\n",
    "            print(\"ERROR\",file,s, i)\n",
    "            break\n",
    "        elif i>randin:\n",
    "            break\n",
    "    if ret:\n",
    "        x = cv2.imwrite(f\"temp/{s}.jpg\", f)\n",
    "        print(f\"saved temp/{file[:-5]}.jpg\", x)\n",
    "        "
   ]
  },
  {
   "cell_type": "code",
   "execution_count": 390,
   "id": "d9dac4e0-646e-426d-b942-a64aad5df722",
   "metadata": {},
   "outputs": [
    {
     "data": {
      "image/png": "[encoded data removed]",
      "text/plain": [
       "<Figure size 864x504 with 1 Axes>"
      ]
     },
     "metadata": {
      "needs_background": "light"
     },
     "output_type": "display_data"
    }
   ],
   "source": [
    "# Consent Level\n",
    "ax = cdf[[\" l1\",\"l2\",\"l3\"]].value_counts().plot.bar(rot=0, figsize=(12,7))\n",
    "for container in ax.containers:\n",
    "    ax.bar_label(container)"
   ]
  },
  {
   "cell_type": "code",
   "execution_count": 391,
   "id": "412ac21b-0320-4171-94cd-aa21579b5a14",
   "metadata": {},
   "outputs": [
    {
     "data": {
      "image/png": "[encoded data removed]",
      "text/plain": [
       "<Figure size 648x360 with 1 Axes>"
      ]
     },
     "metadata": {
      "needs_background": "light"
     },
     "output_type": "display_data"
    },
    {
     "data": {
      "image/png": "[encoded data removed]",
      "text/plain": [
       "<Figure size 648x360 with 1 Axes>"
      ]
     },
     "metadata": {
      "needs_background": "light"
     },
     "output_type": "display_data"
    },
    {
     "data": {
      "image/png": "[encoded data removed]",
      "text/plain": [
       "<Figure size 648x360 with 1 Axes>"
      ]
     },
     "metadata": {
      "needs_background": "light"
     },
     "output_type": "display_data"
    },
    {
     "data": {
      "image/png": "[encoded data removed]",
      "text/plain": [
       "<Figure size 648x360 with 1 Axes>"
      ]
     },
     "metadata": {
      "needs_background": "light"
     },
     "output_type": "display_data"
    }
   ],
   "source": [
    "import matplotlib.pyplot as plt\n",
    "%matplotlib inline\n",
    "for i in ['vision','study','gender','student']:\n",
    "    ax = cdf[i].value_counts().plot.bar(rot=0, figsize = (9,5))\n",
    "    ax.bar_label(ax.containers[0])\n",
    "    plt.title(i)\n",
    "    plt.show()"
   ]
  },
  {
   "cell_type": "markdown",
   "id": "e275f9c4-8b12-4dbd-92a8-d59b31b5b1f8",
   "metadata": {
    "tags": []
   },
   "source": [
    "## Time taken for tasks"
   ]
  },
  {
   "cell_type": "code",
   "execution_count": 415,
   "id": "a0077d95-35ca-4c3d-965d-ac5a6b461a5a",
   "metadata": {},
   "outputs": [
    {
     "data": {
      "text/plain": [
       "count                           65\n",
       "mean     0 days 01:04:24.738461538\n",
       "std      0 days 02:10:14.028111105\n",
       "min                0 days 00:34:30\n",
       "25%                0 days 00:41:45\n",
       "50%                0 days 00:47:34\n",
       "75%                0 days 00:52:40\n",
       "max                0 days 18:15:36\n",
       "Name: seconds_td, dtype: object"
      ]
     },
     "execution_count": 415,
     "metadata": {},
     "output_type": "execute_result"
    },
    {
     "data": {
      "image/png": "[encoded data removed]",
      "text/plain": [
       "<Figure size 432x288 with 1 Axes>"
      ]
     },
     "metadata": {
      "needs_background": "light"
     },
     "output_type": "display_data"
    }
   ],
   "source": [
    "cdf[\"seconds_td\"] = pd.to_timedelta(cdf.seconds,'s')\n",
    "# hours = seconds // 3600\n",
    "# minutes = (seconds % 3600) // 60\n",
    "# seconds = seconds % 60\n",
    "# print(\"Avg time: \", hours,\"hours\",minutes,\"minutes\",seconds,\"seconds\")\n",
    "(cdf.seconds/60).hist(bins=70)\n",
    "cdf[\"seconds_td\"].describe()"
   ]
  },
  {
   "cell_type": "code",
   "execution_count": 416,
   "id": "ffe4867b-e9cf-4979-8342-aaccdee57cf0",
   "metadata": {},
   "outputs": [
    {
     "data": {
      "text/html": [
       "<div>\n",
       "<style scoped>\n",
       "    .dataframe tbody tr th:only-of-type {\n",
       "        vertical-align: middle;\n",
       "    }\n",
       "\n",
       "    .dataframe tbody tr th {\n",
       "        vertical-align: top;\n",
       "    }\n",
       "\n",
       "    .dataframe thead th {\n",
       "        text-align: right;\n",
       "    }\n",
       "</style>\n",
       "<table border=\"1\" class=\"dataframe\">\n",
       "  <thead>\n",
       "    <tr style=\"text-align: right;\">\n",
       "      <th></th>\n",
       "      <th>id</th>\n",
       "      <th>seconds_td</th>\n",
       "    </tr>\n",
       "  </thead>\n",
       "  <tbody>\n",
       "    <tr>\n",
       "      <th>10</th>\n",
       "      <td>s75</td>\n",
       "      <td>0 days 18:15:36</td>\n",
       "    </tr>\n",
       "    <tr>\n",
       "      <th>49</th>\n",
       "      <td>s43</td>\n",
       "      <td>0 days 01:17:01</td>\n",
       "    </tr>\n",
       "    <tr>\n",
       "      <th>44</th>\n",
       "      <td>s27</td>\n",
       "      <td>0 days 01:13:24</td>\n",
       "    </tr>\n",
       "    <tr>\n",
       "      <th>42</th>\n",
       "      <td>s85</td>\n",
       "      <td>0 days 01:10:47</td>\n",
       "    </tr>\n",
       "    <tr>\n",
       "      <th>3</th>\n",
       "      <td>s87</td>\n",
       "      <td>0 days 01:09:19</td>\n",
       "    </tr>\n",
       "  </tbody>\n",
       "</table>\n",
       "</div>"
      ],
      "text/plain": [
       "     id      seconds_td\n",
       "10  s75 0 days 18:15:36\n",
       "49  s43 0 days 01:17:01\n",
       "44  s27 0 days 01:13:24\n",
       "42  s85 0 days 01:10:47\n",
       "3   s87 0 days 01:09:19"
      ]
     },
     "execution_count": 416,
     "metadata": {},
     "output_type": "execute_result"
    }
   ],
   "source": [
    "cdf.sort_values(by=\"seconds\", ascending= False)[[\"id\",\"seconds_td\"]].head()\n",
    "#Whats up with s75?"
   ]
  },
  {
   "cell_type": "code",
   "execution_count": 427,
   "id": "1e309249-88ba-45dc-b144-1374f50030f7",
   "metadata": {},
   "outputs": [
    {
     "data": {
      "text/plain": [
       "count                           65\n",
       "mean     0 days 00:04:47.424292307\n",
       "std      0 days 00:00:00.363394917\n",
       "min         0 days 00:04:47.174000\n",
       "25%         0 days 00:04:47.249000\n",
       "50%         0 days 00:04:47.297000\n",
       "75%         0 days 00:04:47.374000\n",
       "max         0 days 00:04:48.688000\n",
       "Name: zone, dtype: object"
      ]
     },
     "execution_count": 427,
     "metadata": {},
     "output_type": "execute_result"
    },
    {
     "data": {
      "image/png": "[encoded data removed]",
      "text/plain": [
       "<Figure size 432x288 with 1 Axes>"
      ]
     },
     "metadata": {
      "needs_background": "light"
     },
     "output_type": "display_data"
    }
   ],
   "source": [
    "#ZONE\n",
    "seconds = pd.to_timedelta(cdf.zone,'ms')\n",
    "(cdf.zone/1000).hist(bins=70)\n",
    "seconds.describe()"
   ]
  },
  {
   "cell_type": "code",
   "execution_count": 428,
   "id": "f7f9016c-2ed7-449d-a83d-7296460e18f7",
   "metadata": {},
   "outputs": [
    {
     "data": {
      "text/plain": [
       "count                           65\n",
       "mean     0 days 00:05:20.277415384\n",
       "std      0 days 00:00:35.268499203\n",
       "min         0 days 00:04:26.167000\n",
       "25%         0 days 00:04:54.201000\n",
       "50%         0 days 00:05:11.231000\n",
       "75%         0 days 00:05:32.461000\n",
       "max         0 days 00:07:05.209000\n",
       "Name: sp, dtype: object"
      ]
     },
     "execution_count": 428,
     "metadata": {},
     "output_type": "execute_result"
    },
    {
     "data": {
      "image/png": "[encoded data removed]",
      "text/plain": [
       "<Figure size 432x288 with 1 Axes>"
      ]
     },
     "metadata": {
      "needs_background": "light"
     },
     "output_type": "display_data"
    }
   ],
   "source": [
    "#Smooth Pursuit\n",
    "seconds = pd.to_timedelta(cdf.sp,'ms')\n",
    "(cdf.sp/1000).hist(bins=70)\n",
    "seconds.describe()"
   ]
  },
  {
   "cell_type": "code",
   "execution_count": 429,
   "id": "23994d81-0e9b-4149-85d1-ef7f1dd857f7",
   "metadata": {},
   "outputs": [
    {
     "data": {
      "text/plain": [
       "count                           65\n",
       "mean     0 days 00:07:52.777815384\n",
       "std      0 days 00:01:04.824213803\n",
       "min         0 days 00:06:34.001000\n",
       "25%         0 days 00:07:11.368000\n",
       "50%         0 days 00:07:33.746000\n",
       "75%         0 days 00:08:13.816000\n",
       "max         0 days 00:12:21.083000\n",
       "Name: fix, dtype: object"
      ]
     },
     "execution_count": 429,
     "metadata": {},
     "output_type": "execute_result"
    },
    {
     "data": {
      "image/png": "[encoded data removed]",
      "text/plain": [
       "<Figure size 432x288 with 1 Axes>"
      ]
     },
     "metadata": {
      "needs_background": "light"
     },
     "output_type": "display_data"
    }
   ],
   "source": [
    "#Fixation\n",
    "seconds = pd.to_timedelta(cdf.fix,'ms')\n",
    "(cdf.fix/1000).hist(bins=70)\n",
    "seconds.describe()"
   ]
  },
  {
   "cell_type": "code",
   "execution_count": 431,
   "id": "0531fb91-e3c4-4eb4-be76-f651102bdbda",
   "metadata": {},
   "outputs": [
    {
     "data": {
      "text/plain": [
       "count                           65\n",
       "mean     0 days 00:02:16.308769230\n",
       "std      0 days 00:00:10.354844155\n",
       "min         0 days 00:02:07.758000\n",
       "25%         0 days 00:02:09.725000\n",
       "50%         0 days 00:02:11.208000\n",
       "75%         0 days 00:02:21.655000\n",
       "max         0 days 00:02:42.182000\n",
       "Name: blink, dtype: object"
      ]
     },
     "execution_count": 431,
     "metadata": {},
     "output_type": "execute_result"
    },
    {
     "data": {
      "image/png": "[encoded data removed]",
      "text/plain": [
       "<Figure size 432x288 with 1 Axes>"
      ]
     },
     "metadata": {
      "needs_background": "light"
     },
     "output_type": "display_data"
    }
   ],
   "source": [
    "#BLINK\n",
    "seconds = pd.to_timedelta(cdf.blink,'ms')\n",
    "(cdf.blink/1000).hist(bins=70)\n",
    "seconds.describe()"
   ]
  },
  {
   "cell_type": "code",
   "execution_count": 433,
   "id": "eeb7b520-05b7-417a-9ad5-cc0f8d046afc",
   "metadata": {},
   "outputs": [],
   "source": [
    "l={}\n",
    "for path in paths:\n",
    "    df = pd.read_csv(os.path.join(path,\"data.csv\"))\n",
    "    df = df[df.Task_Name == \"E_calib\"]\n",
    "    l[path.split('/')[1]] = df.miss_count.sum()"
   ]
  },
  {
   "cell_type": "code",
   "execution_count": 434,
   "id": "0c79b879-f518-4827-a1c1-4ebfe0698833",
   "metadata": {},
   "outputs": [
    {
     "data": {
      "text/plain": [
       "(array([38., 18.,  0.,  4.,  0.,  4.,  0.,  0.,  0.,  1.]),\n",
       " array([0. , 0.6, 1.2, 1.8, 2.4, 3. , 3.6, 4.2, 4.8, 5.4, 6. ]),\n",
       " <BarContainer object of 10 artists>)"
      ]
     },
     "execution_count": 434,
     "metadata": {},
     "output_type": "execute_result"
    },
    {
     "data": {
      "image/png": "[encoded data removed]",
      "text/plain": [
       "<Figure size 432x288 with 1 Axes>"
      ]
     },
     "metadata": {
      "needs_background": "light"
     },
     "output_type": "display_data"
    }
   ],
   "source": [
    "#no subject has too many incorrect responses in E_calib task!\n",
    "plt.hist(l.values())"
   ]
  },
  {
   "cell_type": "code",
   "execution_count": 439,
   "id": "eee21736-ec5f-40d9-a325-4f44427e9d18",
   "metadata": {},
   "outputs": [
    {
     "data": {
      "text/plain": [
       "<AxesSubplot:>"
      ]
     },
     "execution_count": 439,
     "metadata": {},
     "output_type": "execute_result"
    },
    {
     "data": {
      "image/png": "[encoded data removed]",
      "text/plain": [
       "<Figure size 432x288 with 1 Axes>"
      ]
     },
     "metadata": {
      "needs_background": "light"
     },
     "output_type": "display_data"
    }
   ],
   "source": [
    "sns.boxplot(x=list(l.values()))"
   ]
  },
  {
   "cell_type": "code",
   "execution_count": null,
   "id": "691e1870-c548-4063-b0b0-fc89a16e2bfd",
   "metadata": {},
   "outputs": [],
   "source": []
  }
 ],
 "metadata": {
  "kernelspec": {
   "display_name": "Python 3 (ipykernel)",
   "language": "python",
   "name": "python3"
  },
  "language_info": {
   "codemirror_mode": {
    "name": "ipython",
    "version": 3
   },
   "file_extension": ".py",
   "mimetype": "text/x-python",
   "name": "python",
   "nbconvert_exporter": "python",
   "pygments_lexer": "ipython3",
   "version": "3.9.6"
  }
 },
 "nbformat": 4,
 "nbformat_minor": 5
}
